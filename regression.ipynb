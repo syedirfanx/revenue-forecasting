{
 "cells": [
  {
   "cell_type": "markdown",
   "id": "8e8452da",
   "metadata": {},
   "source": [
    "## Import Libraries"
   ]
  },
  {
   "cell_type": "code",
   "execution_count": 155,
   "id": "fa58e970",
   "metadata": {},
   "outputs": [],
   "source": [
    "import pandas as pd\n",
    "import numpy as np"
   ]
  },
  {
   "cell_type": "markdown",
   "id": "5b7a3056",
   "metadata": {},
   "source": [
    "## Load Dataset"
   ]
  },
  {
   "cell_type": "code",
   "execution_count": 156,
   "id": "c56d2970",
   "metadata": {},
   "outputs": [],
   "source": [
    "data = pd.read_csv('data/revenue-data.csv')"
   ]
  },
  {
   "cell_type": "code",
   "execution_count": 157,
   "id": "9a252cd0",
   "metadata": {
    "scrolled": true
   },
   "outputs": [
    {
     "data": {
      "text/html": [
       "<div>\n",
       "<style scoped>\n",
       "    .dataframe tbody tr th:only-of-type {\n",
       "        vertical-align: middle;\n",
       "    }\n",
       "\n",
       "    .dataframe tbody tr th {\n",
       "        vertical-align: top;\n",
       "    }\n",
       "\n",
       "    .dataframe thead th {\n",
       "        text-align: right;\n",
       "    }\n",
       "</style>\n",
       "<table border=\"1\" class=\"dataframe\">\n",
       "  <thead>\n",
       "    <tr style=\"text-align: right;\">\n",
       "      <th></th>\n",
       "      <th>Age</th>\n",
       "      <th>SiteSpending</th>\n",
       "      <th>SiteTime</th>\n",
       "      <th>RecommendImpression</th>\n",
       "      <th>Education</th>\n",
       "      <th>WorkType</th>\n",
       "      <th>Sex</th>\n",
       "      <th>Region</th>\n",
       "      <th>Salary</th>\n",
       "    </tr>\n",
       "  </thead>\n",
       "  <tbody>\n",
       "    <tr>\n",
       "      <th>0</th>\n",
       "      <td>32</td>\n",
       "      <td>314.06</td>\n",
       "      <td>30.14</td>\n",
       "      <td>0</td>\n",
       "      <td>Degree</td>\n",
       "      <td>Private sector</td>\n",
       "      <td>Male</td>\n",
       "      <td>London</td>\n",
       "      <td>60173.49</td>\n",
       "    </tr>\n",
       "    <tr>\n",
       "      <th>1</th>\n",
       "      <td>20</td>\n",
       "      <td>3758.36</td>\n",
       "      <td>149.36</td>\n",
       "      <td>4</td>\n",
       "      <td>GCSE</td>\n",
       "      <td>Private sector</td>\n",
       "      <td>Female</td>\n",
       "      <td>South East</td>\n",
       "      <td>42965.45</td>\n",
       "    </tr>\n",
       "    <tr>\n",
       "      <th>2</th>\n",
       "      <td>36</td>\n",
       "      <td>601.72</td>\n",
       "      <td>21.87</td>\n",
       "      <td>0</td>\n",
       "      <td>Masters</td>\n",
       "      <td>Private sector</td>\n",
       "      <td>Male</td>\n",
       "      <td>East of England</td>\n",
       "      <td>54924.41</td>\n",
       "    </tr>\n",
       "    <tr>\n",
       "      <th>3</th>\n",
       "      <td>21</td>\n",
       "      <td>44.89</td>\n",
       "      <td>182.80</td>\n",
       "      <td>9</td>\n",
       "      <td>Masters</td>\n",
       "      <td>Private sector</td>\n",
       "      <td>Female</td>\n",
       "      <td>Northern Ireland</td>\n",
       "      <td>26734.99</td>\n",
       "    </tr>\n",
       "    <tr>\n",
       "      <th>4</th>\n",
       "      <td>24</td>\n",
       "      <td>614.80</td>\n",
       "      <td>194.34</td>\n",
       "      <td>0</td>\n",
       "      <td>GCSE</td>\n",
       "      <td>Private sector</td>\n",
       "      <td>Male</td>\n",
       "      <td>Scotland</td>\n",
       "      <td>15325.23</td>\n",
       "    </tr>\n",
       "  </tbody>\n",
       "</table>\n",
       "</div>"
      ],
      "text/plain": [
       "   Age  SiteSpending  SiteTime  RecommendImpression Education        WorkType  \\\n",
       "0   32        314.06     30.14                    0    Degree  Private sector   \n",
       "1   20       3758.36    149.36                    4      GCSE  Private sector   \n",
       "2   36        601.72     21.87                    0   Masters  Private sector   \n",
       "3   21         44.89    182.80                    9   Masters  Private sector   \n",
       "4   24        614.80    194.34                    0      GCSE  Private sector   \n",
       "\n",
       "      Sex            Region    Salary  \n",
       "0    Male            London  60173.49  \n",
       "1  Female        South East  42965.45  \n",
       "2    Male   East of England  54924.41  \n",
       "3  Female  Northern Ireland  26734.99  \n",
       "4    Male          Scotland  15325.23  "
      ]
     },
     "execution_count": 157,
     "metadata": {},
     "output_type": "execute_result"
    }
   ],
   "source": [
    "data.head()"
   ]
  },
  {
   "cell_type": "markdown",
   "id": "d6ad5f11",
   "metadata": {},
   "source": [
    "## Data Processing"
   ]
  },
  {
   "cell_type": "code",
   "execution_count": 158,
   "id": "9cbfbdeb",
   "metadata": {},
   "outputs": [
    {
     "data": {
      "text/html": [
       "<div>\n",
       "<style scoped>\n",
       "    .dataframe tbody tr th:only-of-type {\n",
       "        vertical-align: middle;\n",
       "    }\n",
       "\n",
       "    .dataframe tbody tr th {\n",
       "        vertical-align: top;\n",
       "    }\n",
       "\n",
       "    .dataframe thead th {\n",
       "        text-align: right;\n",
       "    }\n",
       "</style>\n",
       "<table border=\"1\" class=\"dataframe\">\n",
       "  <thead>\n",
       "    <tr style=\"text-align: right;\">\n",
       "      <th></th>\n",
       "      <th>Age</th>\n",
       "      <th>SiteSpending</th>\n",
       "      <th>SiteTime</th>\n",
       "      <th>RecommendImpression</th>\n",
       "      <th>Education</th>\n",
       "      <th>WorkType</th>\n",
       "      <th>Sex</th>\n",
       "      <th>Region</th>\n",
       "      <th>Salary</th>\n",
       "    </tr>\n",
       "  </thead>\n",
       "  <tbody>\n",
       "    <tr>\n",
       "      <th>0</th>\n",
       "      <td>32</td>\n",
       "      <td>314.06</td>\n",
       "      <td>30.14</td>\n",
       "      <td>0</td>\n",
       "      <td>1</td>\n",
       "      <td>0</td>\n",
       "      <td>1</td>\n",
       "      <td>2</td>\n",
       "      <td>60173.49</td>\n",
       "    </tr>\n",
       "    <tr>\n",
       "      <th>1</th>\n",
       "      <td>20</td>\n",
       "      <td>3758.36</td>\n",
       "      <td>149.36</td>\n",
       "      <td>4</td>\n",
       "      <td>2</td>\n",
       "      <td>0</td>\n",
       "      <td>0</td>\n",
       "      <td>7</td>\n",
       "      <td>42965.45</td>\n",
       "    </tr>\n",
       "    <tr>\n",
       "      <th>2</th>\n",
       "      <td>36</td>\n",
       "      <td>601.72</td>\n",
       "      <td>21.87</td>\n",
       "      <td>0</td>\n",
       "      <td>3</td>\n",
       "      <td>0</td>\n",
       "      <td>1</td>\n",
       "      <td>1</td>\n",
       "      <td>54924.41</td>\n",
       "    </tr>\n",
       "    <tr>\n",
       "      <th>3</th>\n",
       "      <td>21</td>\n",
       "      <td>44.89</td>\n",
       "      <td>182.80</td>\n",
       "      <td>9</td>\n",
       "      <td>3</td>\n",
       "      <td>0</td>\n",
       "      <td>0</td>\n",
       "      <td>5</td>\n",
       "      <td>26734.99</td>\n",
       "    </tr>\n",
       "    <tr>\n",
       "      <th>4</th>\n",
       "      <td>24</td>\n",
       "      <td>614.80</td>\n",
       "      <td>194.34</td>\n",
       "      <td>0</td>\n",
       "      <td>2</td>\n",
       "      <td>0</td>\n",
       "      <td>1</td>\n",
       "      <td>6</td>\n",
       "      <td>15325.23</td>\n",
       "    </tr>\n",
       "    <tr>\n",
       "      <th>...</th>\n",
       "      <td>...</td>\n",
       "      <td>...</td>\n",
       "      <td>...</td>\n",
       "      <td>...</td>\n",
       "      <td>...</td>\n",
       "      <td>...</td>\n",
       "      <td>...</td>\n",
       "      <td>...</td>\n",
       "      <td>...</td>\n",
       "    </tr>\n",
       "    <tr>\n",
       "      <th>995</th>\n",
       "      <td>56</td>\n",
       "      <td>177.67</td>\n",
       "      <td>272.87</td>\n",
       "      <td>5</td>\n",
       "      <td>2</td>\n",
       "      <td>1</td>\n",
       "      <td>0</td>\n",
       "      <td>4</td>\n",
       "      <td>22306.84</td>\n",
       "    </tr>\n",
       "    <tr>\n",
       "      <th>996</th>\n",
       "      <td>54</td>\n",
       "      <td>155.42</td>\n",
       "      <td>231.17</td>\n",
       "      <td>5</td>\n",
       "      <td>5</td>\n",
       "      <td>0</td>\n",
       "      <td>1</td>\n",
       "      <td>9</td>\n",
       "      <td>27704.97</td>\n",
       "    </tr>\n",
       "    <tr>\n",
       "      <th>997</th>\n",
       "      <td>22</td>\n",
       "      <td>2376.10</td>\n",
       "      <td>287.15</td>\n",
       "      <td>11</td>\n",
       "      <td>5</td>\n",
       "      <td>0</td>\n",
       "      <td>1</td>\n",
       "      <td>7</td>\n",
       "      <td>62542.89</td>\n",
       "    </tr>\n",
       "    <tr>\n",
       "      <th>998</th>\n",
       "      <td>49</td>\n",
       "      <td>4355.04</td>\n",
       "      <td>27.78</td>\n",
       "      <td>0</td>\n",
       "      <td>1</td>\n",
       "      <td>0</td>\n",
       "      <td>1</td>\n",
       "      <td>5</td>\n",
       "      <td>96745.84</td>\n",
       "    </tr>\n",
       "    <tr>\n",
       "      <th>999</th>\n",
       "      <td>51</td>\n",
       "      <td>40.43</td>\n",
       "      <td>188.38</td>\n",
       "      <td>9</td>\n",
       "      <td>6</td>\n",
       "      <td>0</td>\n",
       "      <td>1</td>\n",
       "      <td>4</td>\n",
       "      <td>48651.47</td>\n",
       "    </tr>\n",
       "  </tbody>\n",
       "</table>\n",
       "<p>1000 rows × 9 columns</p>\n",
       "</div>"
      ],
      "text/plain": [
       "     Age  SiteSpending  SiteTime  RecommendImpression  Education  WorkType  \\\n",
       "0     32        314.06     30.14                    0          1         0   \n",
       "1     20       3758.36    149.36                    4          2         0   \n",
       "2     36        601.72     21.87                    0          3         0   \n",
       "3     21         44.89    182.80                    9          3         0   \n",
       "4     24        614.80    194.34                    0          2         0   \n",
       "..   ...           ...       ...                  ...        ...       ...   \n",
       "995   56        177.67    272.87                    5          2         1   \n",
       "996   54        155.42    231.17                    5          5         0   \n",
       "997   22       2376.10    287.15                   11          5         0   \n",
       "998   49       4355.04     27.78                    0          1         0   \n",
       "999   51         40.43    188.38                    9          6         0   \n",
       "\n",
       "     Sex  Region    Salary  \n",
       "0      1       2  60173.49  \n",
       "1      0       7  42965.45  \n",
       "2      1       1  54924.41  \n",
       "3      0       5  26734.99  \n",
       "4      1       6  15325.23  \n",
       "..   ...     ...       ...  \n",
       "995    0       4  22306.84  \n",
       "996    1       9  27704.97  \n",
       "997    1       7  62542.89  \n",
       "998    1       5  96745.84  \n",
       "999    1       4  48651.47  \n",
       "\n",
       "[1000 rows x 9 columns]"
      ]
     },
     "execution_count": 158,
     "metadata": {},
     "output_type": "execute_result"
    }
   ],
   "source": [
    "from sklearn import preprocessing\n",
    "le = preprocessing.LabelEncoder()\n",
    "\n",
    "data[\"Education\"] = le.fit_transform(data['Education'])\n",
    "data[\"WorkType\"] = le.fit_transform(data[\"WorkType\"])\n",
    "data['Sex'] = le.fit_transform(data['Sex'])\n",
    "data['Region'] =  le.fit_transform(data['Region'])\n",
    "data"
   ]
  },
  {
   "cell_type": "code",
   "execution_count": 159,
   "id": "9ae85b5b",
   "metadata": {},
   "outputs": [],
   "source": [
    "from sklearn import preprocessing\n",
    "x = data.values #returns a numpy array\n",
    "min_max_scaler = preprocessing.MinMaxScaler()\n",
    "data_scaled = min_max_scaler.fit_transform(x)\n",
    "df = pd.DataFrame(data_scaled)"
   ]
  },
  {
   "cell_type": "code",
   "execution_count": 160,
   "id": "5a0741ec",
   "metadata": {},
   "outputs": [
    {
     "data": {
      "text/html": [
       "<div>\n",
       "<style scoped>\n",
       "    .dataframe tbody tr th:only-of-type {\n",
       "        vertical-align: middle;\n",
       "    }\n",
       "\n",
       "    .dataframe tbody tr th {\n",
       "        vertical-align: top;\n",
       "    }\n",
       "\n",
       "    .dataframe thead th {\n",
       "        text-align: right;\n",
       "    }\n",
       "</style>\n",
       "<table border=\"1\" class=\"dataframe\">\n",
       "  <thead>\n",
       "    <tr style=\"text-align: right;\">\n",
       "      <th></th>\n",
       "      <th>0</th>\n",
       "      <th>1</th>\n",
       "      <th>2</th>\n",
       "      <th>3</th>\n",
       "      <th>4</th>\n",
       "      <th>5</th>\n",
       "      <th>6</th>\n",
       "      <th>7</th>\n",
       "      <th>8</th>\n",
       "    </tr>\n",
       "  </thead>\n",
       "  <tbody>\n",
       "    <tr>\n",
       "      <th>0</th>\n",
       "      <td>0.206349</td>\n",
       "      <td>0.062878</td>\n",
       "      <td>0.084627</td>\n",
       "      <td>0.000000</td>\n",
       "      <td>0.166667</td>\n",
       "      <td>0.0</td>\n",
       "      <td>1.0</td>\n",
       "      <td>0.181818</td>\n",
       "      <td>0.359470</td>\n",
       "    </tr>\n",
       "    <tr>\n",
       "      <th>1</th>\n",
       "      <td>0.015873</td>\n",
       "      <td>0.854345</td>\n",
       "      <td>0.487710</td>\n",
       "      <td>0.235294</td>\n",
       "      <td>0.333333</td>\n",
       "      <td>0.0</td>\n",
       "      <td>0.0</td>\n",
       "      <td>0.636364</td>\n",
       "      <td>0.229875</td>\n",
       "    </tr>\n",
       "    <tr>\n",
       "      <th>2</th>\n",
       "      <td>0.269841</td>\n",
       "      <td>0.128979</td>\n",
       "      <td>0.056666</td>\n",
       "      <td>0.000000</td>\n",
       "      <td>0.500000</td>\n",
       "      <td>0.0</td>\n",
       "      <td>1.0</td>\n",
       "      <td>0.090909</td>\n",
       "      <td>0.319939</td>\n",
       "    </tr>\n",
       "    <tr>\n",
       "      <th>3</th>\n",
       "      <td>0.031746</td>\n",
       "      <td>0.001025</td>\n",
       "      <td>0.600771</td>\n",
       "      <td>0.529412</td>\n",
       "      <td>0.500000</td>\n",
       "      <td>0.0</td>\n",
       "      <td>0.0</td>\n",
       "      <td>0.454545</td>\n",
       "      <td>0.107643</td>\n",
       "    </tr>\n",
       "    <tr>\n",
       "      <th>4</th>\n",
       "      <td>0.079365</td>\n",
       "      <td>0.131985</td>\n",
       "      <td>0.639788</td>\n",
       "      <td>0.000000</td>\n",
       "      <td>0.333333</td>\n",
       "      <td>0.0</td>\n",
       "      <td>1.0</td>\n",
       "      <td>0.545455</td>\n",
       "      <td>0.021716</td>\n",
       "    </tr>\n",
       "  </tbody>\n",
       "</table>\n",
       "</div>"
      ],
      "text/plain": [
       "          0         1         2         3         4    5    6         7  \\\n",
       "0  0.206349  0.062878  0.084627  0.000000  0.166667  0.0  1.0  0.181818   \n",
       "1  0.015873  0.854345  0.487710  0.235294  0.333333  0.0  0.0  0.636364   \n",
       "2  0.269841  0.128979  0.056666  0.000000  0.500000  0.0  1.0  0.090909   \n",
       "3  0.031746  0.001025  0.600771  0.529412  0.500000  0.0  0.0  0.454545   \n",
       "4  0.079365  0.131985  0.639788  0.000000  0.333333  0.0  1.0  0.545455   \n",
       "\n",
       "          8  \n",
       "0  0.359470  \n",
       "1  0.229875  \n",
       "2  0.319939  \n",
       "3  0.107643  \n",
       "4  0.021716  "
      ]
     },
     "execution_count": 160,
     "metadata": {},
     "output_type": "execute_result"
    }
   ],
   "source": [
    "df.head()"
   ]
  },
  {
   "cell_type": "code",
   "execution_count": 161,
   "id": "6c0cd0e9",
   "metadata": {},
   "outputs": [],
   "source": [
    "df.columns = data.columns"
   ]
  },
  {
   "cell_type": "code",
   "execution_count": 162,
   "id": "21c9e7eb",
   "metadata": {},
   "outputs": [
    {
     "data": {
      "text/html": [
       "<div>\n",
       "<style scoped>\n",
       "    .dataframe tbody tr th:only-of-type {\n",
       "        vertical-align: middle;\n",
       "    }\n",
       "\n",
       "    .dataframe tbody tr th {\n",
       "        vertical-align: top;\n",
       "    }\n",
       "\n",
       "    .dataframe thead th {\n",
       "        text-align: right;\n",
       "    }\n",
       "</style>\n",
       "<table border=\"1\" class=\"dataframe\">\n",
       "  <thead>\n",
       "    <tr style=\"text-align: right;\">\n",
       "      <th></th>\n",
       "      <th>Age</th>\n",
       "      <th>SiteSpending</th>\n",
       "      <th>SiteTime</th>\n",
       "      <th>RecommendImpression</th>\n",
       "      <th>Education</th>\n",
       "      <th>WorkType</th>\n",
       "      <th>Sex</th>\n",
       "      <th>Region</th>\n",
       "      <th>Salary</th>\n",
       "    </tr>\n",
       "  </thead>\n",
       "  <tbody>\n",
       "    <tr>\n",
       "      <th>0</th>\n",
       "      <td>0.206349</td>\n",
       "      <td>0.062878</td>\n",
       "      <td>0.084627</td>\n",
       "      <td>0.000000</td>\n",
       "      <td>0.166667</td>\n",
       "      <td>0.0</td>\n",
       "      <td>1.0</td>\n",
       "      <td>0.181818</td>\n",
       "      <td>0.359470</td>\n",
       "    </tr>\n",
       "    <tr>\n",
       "      <th>1</th>\n",
       "      <td>0.015873</td>\n",
       "      <td>0.854345</td>\n",
       "      <td>0.487710</td>\n",
       "      <td>0.235294</td>\n",
       "      <td>0.333333</td>\n",
       "      <td>0.0</td>\n",
       "      <td>0.0</td>\n",
       "      <td>0.636364</td>\n",
       "      <td>0.229875</td>\n",
       "    </tr>\n",
       "    <tr>\n",
       "      <th>2</th>\n",
       "      <td>0.269841</td>\n",
       "      <td>0.128979</td>\n",
       "      <td>0.056666</td>\n",
       "      <td>0.000000</td>\n",
       "      <td>0.500000</td>\n",
       "      <td>0.0</td>\n",
       "      <td>1.0</td>\n",
       "      <td>0.090909</td>\n",
       "      <td>0.319939</td>\n",
       "    </tr>\n",
       "    <tr>\n",
       "      <th>3</th>\n",
       "      <td>0.031746</td>\n",
       "      <td>0.001025</td>\n",
       "      <td>0.600771</td>\n",
       "      <td>0.529412</td>\n",
       "      <td>0.500000</td>\n",
       "      <td>0.0</td>\n",
       "      <td>0.0</td>\n",
       "      <td>0.454545</td>\n",
       "      <td>0.107643</td>\n",
       "    </tr>\n",
       "    <tr>\n",
       "      <th>4</th>\n",
       "      <td>0.079365</td>\n",
       "      <td>0.131985</td>\n",
       "      <td>0.639788</td>\n",
       "      <td>0.000000</td>\n",
       "      <td>0.333333</td>\n",
       "      <td>0.0</td>\n",
       "      <td>1.0</td>\n",
       "      <td>0.545455</td>\n",
       "      <td>0.021716</td>\n",
       "    </tr>\n",
       "  </tbody>\n",
       "</table>\n",
       "</div>"
      ],
      "text/plain": [
       "        Age  SiteSpending  SiteTime  RecommendImpression  Education  WorkType  \\\n",
       "0  0.206349      0.062878  0.084627             0.000000   0.166667       0.0   \n",
       "1  0.015873      0.854345  0.487710             0.235294   0.333333       0.0   \n",
       "2  0.269841      0.128979  0.056666             0.000000   0.500000       0.0   \n",
       "3  0.031746      0.001025  0.600771             0.529412   0.500000       0.0   \n",
       "4  0.079365      0.131985  0.639788             0.000000   0.333333       0.0   \n",
       "\n",
       "   Sex    Region    Salary  \n",
       "0  1.0  0.181818  0.359470  \n",
       "1  0.0  0.636364  0.229875  \n",
       "2  1.0  0.090909  0.319939  \n",
       "3  0.0  0.454545  0.107643  \n",
       "4  1.0  0.545455  0.021716  "
      ]
     },
     "execution_count": 162,
     "metadata": {},
     "output_type": "execute_result"
    }
   ],
   "source": [
    "df.head()"
   ]
  },
  {
   "cell_type": "markdown",
   "id": "8012857a",
   "metadata": {},
   "source": [
    "## Linear Regression"
   ]
  },
  {
   "cell_type": "code",
   "execution_count": 163,
   "id": "f89cf786",
   "metadata": {},
   "outputs": [],
   "source": [
    "X = df['SiteSpending']\n",
    "y = df['Salary']"
   ]
  },
  {
   "cell_type": "code",
   "execution_count": 164,
   "id": "16908e2e",
   "metadata": {},
   "outputs": [],
   "source": [
    "from sklearn.model_selection import train_test_split"
   ]
  },
  {
   "cell_type": "code",
   "execution_count": 165,
   "id": "8f5eb545",
   "metadata": {},
   "outputs": [],
   "source": [
    "X_train, X_test, y_train, y_test = train_test_split(X,y, test_size=0.3, random_state=42)"
   ]
  },
  {
   "cell_type": "code",
   "execution_count": 166,
   "id": "ea9501ef",
   "metadata": {},
   "outputs": [],
   "source": [
    "import pandas as np"
   ]
  },
  {
   "cell_type": "code",
   "execution_count": 167,
   "id": "95bdfab0",
   "metadata": {},
   "outputs": [],
   "source": [
    "X_train = np.array(X_train).reshape((len(X_train),1))\n",
    "y_train = np.array(y_train).reshape((len(y_train),1))\n",
    "\n",
    "X_test = np.array(X_test).reshape(len(X_test), 1)\n",
    "y_test = np.array(y_test).reshape(len(y_test), 1)"
   ]
  },
  {
   "cell_type": "code",
   "execution_count": 168,
   "id": "2d45e760",
   "metadata": {},
   "outputs": [],
   "source": [
    "from sklearn import linear_model \n",
    "import sklearn.metrics as sm\n",
    "import matplotlib.pyplot as plt"
   ]
  },
  {
   "cell_type": "code",
   "execution_count": 169,
   "id": "2a768839",
   "metadata": {},
   "outputs": [
    {
     "data": {
      "text/plain": [
       "LinearRegression()"
      ]
     },
     "execution_count": 169,
     "metadata": {},
     "output_type": "execute_result"
    }
   ],
   "source": [
    "model = linear_model.LinearRegression()\n",
    "model.fit(X_train, y_train)"
   ]
  },
  {
   "cell_type": "code",
   "execution_count": 170,
   "id": "86f5dff6",
   "metadata": {},
   "outputs": [
    {
     "data": {
      "image/png": "[encoded data removed]",
      "text/plain": [
       "<Figure size 432x288 with 1 Axes>"
      ]
     },
     "metadata": {
      "needs_background": "light"
     },
     "output_type": "display_data"
    }
   ],
   "source": [
    "y_train_pred = model.predict(X_train)\n",
    "\n",
    "plt.figure()\n",
    "plt.scatter(X_train, y_train, color='blue', label=\"True Value\")\n",
    "plt.plot(X_train, y_train_pred, color='black', linewidth=2, label=\"Prediction\")\n",
    "plt.xlabel(\"SiteSpending\")\n",
    "plt.ylabel(\"Salary\")\n",
    "plt.title('Prediction Result of Training Data')\n",
    "plt.legend()\n",
    "plt.show()"
   ]
  },
  {
   "cell_type": "code",
   "execution_count": 171,
   "id": "7c891f28",
   "metadata": {
    "scrolled": true
   },
   "outputs": [
    {
     "data": {
      "image/png": "[encoded data removed]",
      "text/plain": [
       "<Figure size 432x288 with 1 Axes>"
      ]
     },
     "metadata": {
      "needs_background": "light"
     },
     "output_type": "display_data"
    }
   ],
   "source": [
    "y_test_pred = model.predict(X_test)\n",
    "\n",
    "plt.figure()\n",
    "plt.scatter(X_test, y_test, color='green', label='True Value')\n",
    "plt.plot(X_test, y_test_pred, color='black', linewidth=2, label='Prediction')\n",
    "plt.xlabel(\"SiteSpending\")\n",
    "plt.ylabel(\"Salary\")\n",
    "plt.title('Prediction Result of Test data')\n",
    "plt.legend()\n",
    "plt.show()"
   ]
  },
  {
   "cell_type": "code",
   "execution_count": 172,
   "id": "6e03af8b",
   "metadata": {},
   "outputs": [],
   "source": [
    "from sklearn.metrics import accuracy_score"
   ]
  },
  {
   "cell_type": "code",
   "execution_count": 173,
   "id": "bdc06497",
   "metadata": {},
   "outputs": [],
   "source": [
    "test_score = model.score(X_test, y_test)"
   ]
  },
  {
   "cell_type": "code",
   "execution_count": 174,
   "id": "31c598ac",
   "metadata": {},
   "outputs": [
    {
     "data": {
      "text/plain": [
       "0.08326185140455311"
      ]
     },
     "execution_count": 174,
     "metadata": {},
     "output_type": "execute_result"
    }
   ],
   "source": [
    "test_score"
   ]
  },
  {
   "cell_type": "markdown",
   "id": "33cbddef",
   "metadata": {},
   "source": [
    "### Evaluation Metrics"
   ]
  },
  {
   "cell_type": "code",
   "execution_count": 175,
   "id": "4fc097cb",
   "metadata": {},
   "outputs": [],
   "source": [
    "import numpy as np"
   ]
  },
  {
   "cell_type": "code",
   "execution_count": 176,
   "id": "ccaacc6c",
   "metadata": {},
   "outputs": [
    {
     "name": "stdout",
     "output_type": "stream",
     "text": [
      "0.13245396147972063\n",
      "0.02536231064157793\n",
      "0.15925548857599203\n"
     ]
    }
   ],
   "source": [
    "from sklearn import metrics\n",
    "y_pred = model.predict(X_test)\n",
    "print(metrics.mean_absolute_error(y_test, y_pred))\n",
    "print(metrics.mean_squared_error(y_test, y_pred))\n",
    "print(np.sqrt(metrics.mean_squared_error(y_test, y_pred)))"
   ]
  },
  {
   "cell_type": "markdown",
   "id": "d542a69d",
   "metadata": {},
   "source": [
    "## Decision Tree Regressor"
   ]
  },
  {
   "cell_type": "code",
   "execution_count": 177,
   "id": "80a59945",
   "metadata": {},
   "outputs": [],
   "source": [
    "X = df.drop(columns= [\"Salary\"])\n",
    "y = df['Salary']"
   ]
  },
  {
   "cell_type": "code",
   "execution_count": 178,
   "id": "554fab3d",
   "metadata": {},
   "outputs": [],
   "source": [
    "from sklearn.model_selection import train_test_split\n",
    "X_train, X_test, y_train, y_test = train_test_split( X, y, test_size=0.3, random_state=42)"
   ]
  },
  {
   "cell_type": "code",
   "execution_count": 179,
   "id": "e5327f6c",
   "metadata": {},
   "outputs": [
    {
     "name": "stdout",
     "output_type": "stream",
     "text": [
      "(700, 8)\n",
      "(300, 8)\n",
      "(700,)\n",
      "(300,)\n"
     ]
    }
   ],
   "source": [
    "print(X_train.shape)\n",
    "print(X_test.shape)\n",
    "print(y_train.shape)\n",
    "print(y_test.shape)"
   ]
  },
  {
   "cell_type": "code",
   "execution_count": 180,
   "id": "1145fc7c",
   "metadata": {},
   "outputs": [
    {
     "data": {
      "text/plain": [
       "DecisionTreeRegressor()"
      ]
     },
     "execution_count": 180,
     "metadata": {},
     "output_type": "execute_result"
    }
   ],
   "source": [
    "from sklearn import tree\n",
    "from sklearn.pipeline import make_pipeline\n",
    "from sklearn.preprocessing import StandardScaler\n",
    "\n",
    "reg = tree.DecisionTreeRegressor()\n",
    "reg.fit(X_train, y_train)"
   ]
  },
  {
   "cell_type": "code",
   "execution_count": 181,
   "id": "08cdcb30",
   "metadata": {},
   "outputs": [],
   "source": [
    "y_pred = reg.predict(X_test)"
   ]
  },
  {
   "cell_type": "code",
   "execution_count": 182,
   "id": "5e1c3353",
   "metadata": {},
   "outputs": [
    {
     "data": {
      "text/html": [
       "<div>\n",
       "<style scoped>\n",
       "    .dataframe tbody tr th:only-of-type {\n",
       "        vertical-align: middle;\n",
       "    }\n",
       "\n",
       "    .dataframe tbody tr th {\n",
       "        vertical-align: top;\n",
       "    }\n",
       "\n",
       "    .dataframe thead th {\n",
       "        text-align: right;\n",
       "    }\n",
       "</style>\n",
       "<table border=\"1\" class=\"dataframe\">\n",
       "  <thead>\n",
       "    <tr style=\"text-align: right;\">\n",
       "      <th></th>\n",
       "      <th>Age</th>\n",
       "      <th>SiteSpending</th>\n",
       "      <th>SiteTime</th>\n",
       "      <th>RecommendImpression</th>\n",
       "      <th>Education</th>\n",
       "      <th>WorkType</th>\n",
       "      <th>Sex</th>\n",
       "      <th>Region</th>\n",
       "    </tr>\n",
       "  </thead>\n",
       "  <tbody>\n",
       "    <tr>\n",
       "      <th>521</th>\n",
       "      <td>0.269841</td>\n",
       "      <td>0.415808</td>\n",
       "      <td>0.264767</td>\n",
       "      <td>0.294118</td>\n",
       "      <td>0.333333</td>\n",
       "      <td>0.333333</td>\n",
       "      <td>1.0</td>\n",
       "      <td>0.181818</td>\n",
       "    </tr>\n",
       "    <tr>\n",
       "      <th>737</th>\n",
       "      <td>0.428571</td>\n",
       "      <td>0.030438</td>\n",
       "      <td>0.999020</td>\n",
       "      <td>0.411765</td>\n",
       "      <td>0.500000</td>\n",
       "      <td>0.333333</td>\n",
       "      <td>0.0</td>\n",
       "      <td>0.000000</td>\n",
       "    </tr>\n",
       "    <tr>\n",
       "      <th>740</th>\n",
       "      <td>0.301587</td>\n",
       "      <td>0.000977</td>\n",
       "      <td>0.053792</td>\n",
       "      <td>0.000000</td>\n",
       "      <td>0.166667</td>\n",
       "      <td>1.000000</td>\n",
       "      <td>0.0</td>\n",
       "      <td>1.000000</td>\n",
       "    </tr>\n",
       "    <tr>\n",
       "      <th>660</th>\n",
       "      <td>0.142857</td>\n",
       "      <td>0.052872</td>\n",
       "      <td>0.240964</td>\n",
       "      <td>0.000000</td>\n",
       "      <td>1.000000</td>\n",
       "      <td>0.000000</td>\n",
       "      <td>1.0</td>\n",
       "      <td>0.727273</td>\n",
       "    </tr>\n",
       "    <tr>\n",
       "      <th>411</th>\n",
       "      <td>0.253968</td>\n",
       "      <td>0.020182</td>\n",
       "      <td>0.932346</td>\n",
       "      <td>0.235294</td>\n",
       "      <td>0.833333</td>\n",
       "      <td>0.000000</td>\n",
       "      <td>1.0</td>\n",
       "      <td>1.000000</td>\n",
       "    </tr>\n",
       "    <tr>\n",
       "      <th>...</th>\n",
       "      <td>...</td>\n",
       "      <td>...</td>\n",
       "      <td>...</td>\n",
       "      <td>...</td>\n",
       "      <td>...</td>\n",
       "      <td>...</td>\n",
       "      <td>...</td>\n",
       "      <td>...</td>\n",
       "    </tr>\n",
       "    <tr>\n",
       "      <th>468</th>\n",
       "      <td>0.650794</td>\n",
       "      <td>0.000563</td>\n",
       "      <td>0.023768</td>\n",
       "      <td>0.000000</td>\n",
       "      <td>0.166667</td>\n",
       "      <td>1.000000</td>\n",
       "      <td>1.0</td>\n",
       "      <td>1.000000</td>\n",
       "    </tr>\n",
       "    <tr>\n",
       "      <th>935</th>\n",
       "      <td>0.380952</td>\n",
       "      <td>0.024930</td>\n",
       "      <td>0.532846</td>\n",
       "      <td>0.588235</td>\n",
       "      <td>0.166667</td>\n",
       "      <td>0.333333</td>\n",
       "      <td>1.0</td>\n",
       "      <td>0.000000</td>\n",
       "    </tr>\n",
       "    <tr>\n",
       "      <th>428</th>\n",
       "      <td>0.285714</td>\n",
       "      <td>0.004867</td>\n",
       "      <td>0.551374</td>\n",
       "      <td>0.235294</td>\n",
       "      <td>0.333333</td>\n",
       "      <td>0.000000</td>\n",
       "      <td>0.0</td>\n",
       "      <td>0.545455</td>\n",
       "    </tr>\n",
       "    <tr>\n",
       "      <th>7</th>\n",
       "      <td>0.317460</td>\n",
       "      <td>0.000000</td>\n",
       "      <td>0.639281</td>\n",
       "      <td>0.235294</td>\n",
       "      <td>0.166667</td>\n",
       "      <td>0.000000</td>\n",
       "      <td>1.0</td>\n",
       "      <td>0.454545</td>\n",
       "    </tr>\n",
       "    <tr>\n",
       "      <th>155</th>\n",
       "      <td>0.142857</td>\n",
       "      <td>0.036075</td>\n",
       "      <td>0.191196</td>\n",
       "      <td>0.294118</td>\n",
       "      <td>0.166667</td>\n",
       "      <td>0.333333</td>\n",
       "      <td>0.0</td>\n",
       "      <td>0.909091</td>\n",
       "    </tr>\n",
       "  </tbody>\n",
       "</table>\n",
       "<p>300 rows × 8 columns</p>\n",
       "</div>"
      ],
      "text/plain": [
       "          Age  SiteSpending  SiteTime  RecommendImpression  Education  \\\n",
       "521  0.269841      0.415808  0.264767             0.294118   0.333333   \n",
       "737  0.428571      0.030438  0.999020             0.411765   0.500000   \n",
       "740  0.301587      0.000977  0.053792             0.000000   0.166667   \n",
       "660  0.142857      0.052872  0.240964             0.000000   1.000000   \n",
       "411  0.253968      0.020182  0.932346             0.235294   0.833333   \n",
       "..        ...           ...       ...                  ...        ...   \n",
       "468  0.650794      0.000563  0.023768             0.000000   0.166667   \n",
       "935  0.380952      0.024930  0.532846             0.588235   0.166667   \n",
       "428  0.285714      0.004867  0.551374             0.235294   0.333333   \n",
       "7    0.317460      0.000000  0.639281             0.235294   0.166667   \n",
       "155  0.142857      0.036075  0.191196             0.294118   0.166667   \n",
       "\n",
       "     WorkType  Sex    Region  \n",
       "521  0.333333  1.0  0.181818  \n",
       "737  0.333333  0.0  0.000000  \n",
       "740  1.000000  0.0  1.000000  \n",
       "660  0.000000  1.0  0.727273  \n",
       "411  0.000000  1.0  1.000000  \n",
       "..        ...  ...       ...  \n",
       "468  1.000000  1.0  1.000000  \n",
       "935  0.333333  1.0  0.000000  \n",
       "428  0.000000  0.0  0.545455  \n",
       "7    0.000000  1.0  0.454545  \n",
       "155  0.333333  0.0  0.909091  \n",
       "\n",
       "[300 rows x 8 columns]"
      ]
     },
     "execution_count": 182,
     "metadata": {},
     "output_type": "execute_result"
    }
   ],
   "source": [
    "X_test"
   ]
  },
  {
   "cell_type": "code",
   "execution_count": 183,
   "id": "f9701a6b",
   "metadata": {},
   "outputs": [
    {
     "data": {
      "text/html": [
       "<div>\n",
       "<style scoped>\n",
       "    .dataframe tbody tr th:only-of-type {\n",
       "        vertical-align: middle;\n",
       "    }\n",
       "\n",
       "    .dataframe tbody tr th {\n",
       "        vertical-align: top;\n",
       "    }\n",
       "\n",
       "    .dataframe thead th {\n",
       "        text-align: right;\n",
       "    }\n",
       "</style>\n",
       "<table border=\"1\" class=\"dataframe\">\n",
       "  <thead>\n",
       "    <tr style=\"text-align: right;\">\n",
       "      <th></th>\n",
       "      <th>Predicted Salary</th>\n",
       "    </tr>\n",
       "  </thead>\n",
       "  <tbody>\n",
       "    <tr>\n",
       "      <th>0</th>\n",
       "      <td>0.439897</td>\n",
       "    </tr>\n",
       "    <tr>\n",
       "      <th>1</th>\n",
       "      <td>0.226163</td>\n",
       "    </tr>\n",
       "    <tr>\n",
       "      <th>2</th>\n",
       "      <td>0.149833</td>\n",
       "    </tr>\n",
       "    <tr>\n",
       "      <th>3</th>\n",
       "      <td>0.065806</td>\n",
       "    </tr>\n",
       "    <tr>\n",
       "      <th>4</th>\n",
       "      <td>0.255703</td>\n",
       "    </tr>\n",
       "    <tr>\n",
       "      <th>...</th>\n",
       "      <td>...</td>\n",
       "    </tr>\n",
       "    <tr>\n",
       "      <th>295</th>\n",
       "      <td>0.077207</td>\n",
       "    </tr>\n",
       "    <tr>\n",
       "      <th>296</th>\n",
       "      <td>0.500822</td>\n",
       "    </tr>\n",
       "    <tr>\n",
       "      <th>297</th>\n",
       "      <td>0.348911</td>\n",
       "    </tr>\n",
       "    <tr>\n",
       "      <th>298</th>\n",
       "      <td>0.200553</td>\n",
       "    </tr>\n",
       "    <tr>\n",
       "      <th>299</th>\n",
       "      <td>0.045628</td>\n",
       "    </tr>\n",
       "  </tbody>\n",
       "</table>\n",
       "<p>300 rows × 1 columns</p>\n",
       "</div>"
      ],
      "text/plain": [
       "     Predicted Salary\n",
       "0            0.439897\n",
       "1            0.226163\n",
       "2            0.149833\n",
       "3            0.065806\n",
       "4            0.255703\n",
       "..                ...\n",
       "295          0.077207\n",
       "296          0.500822\n",
       "297          0.348911\n",
       "298          0.200553\n",
       "299          0.045628\n",
       "\n",
       "[300 rows x 1 columns]"
      ]
     },
     "execution_count": 183,
     "metadata": {},
     "output_type": "execute_result"
    }
   ],
   "source": [
    "y_pred_df =  pd.DataFrame(y_pred)\n",
    "y_pred_df = y_pred_df.rename(columns={0: 'Predicted Salary'})\n",
    "y_pred_df"
   ]
  },
  {
   "cell_type": "code",
   "execution_count": 184,
   "id": "12bc80c2",
   "metadata": {},
   "outputs": [],
   "source": [
    "test_score = reg.score(X_test, y_test)"
   ]
  },
  {
   "cell_type": "code",
   "execution_count": 185,
   "id": "c0475174",
   "metadata": {},
   "outputs": [
    {
     "data": {
      "text/plain": [
       "0.6751266007988675"
      ]
     },
     "execution_count": 185,
     "metadata": {},
     "output_type": "execute_result"
    }
   ],
   "source": [
    "test_score"
   ]
  },
  {
   "cell_type": "markdown",
   "id": "8f671d3b",
   "metadata": {},
   "source": [
    "### Evaluation Metrics"
   ]
  },
  {
   "cell_type": "code",
   "execution_count": 186,
   "id": "edf3c388",
   "metadata": {},
   "outputs": [
    {
     "name": "stdout",
     "output_type": "stream",
     "text": [
      "0.06298425855231922\n",
      "0.008987888288873374\n",
      "0.09480447399186061\n"
     ]
    }
   ],
   "source": [
    "print(metrics.mean_absolute_error(y_test, y_pred))\n",
    "print(metrics.mean_squared_error(y_test, y_pred))\n",
    "print(np.sqrt(metrics.mean_squared_error(y_test, y_pred)))"
   ]
  },
  {
   "cell_type": "markdown",
   "id": "372ae2e7",
   "metadata": {},
   "source": [
    "## Random Forrest Regressor"
   ]
  },
  {
   "cell_type": "code",
   "execution_count": 187,
   "id": "5db621ac",
   "metadata": {},
   "outputs": [
    {
     "data": {
      "text/plain": [
       "RandomForestRegressor(n_estimators=1000, random_state=43)"
      ]
     },
     "execution_count": 187,
     "metadata": {},
     "output_type": "execute_result"
    }
   ],
   "source": [
    "from sklearn.ensemble import RandomForestRegressor\n",
    "\n",
    "rf =RandomForestRegressor(n_estimators=1000, random_state= 43)\n",
    "\n",
    "rf.fit(X_train, y_train)"
   ]
  },
  {
   "cell_type": "code",
   "execution_count": 188,
   "id": "e3f63b6b",
   "metadata": {},
   "outputs": [
    {
     "name": "stdout",
     "output_type": "stream",
     "text": [
      "(700, 8)\n",
      "(300, 8)\n",
      "(700,)\n",
      "(300,)\n"
     ]
    }
   ],
   "source": [
    "print(X_train.shape)\n",
    "print(X_test.shape)\n",
    "print(y_train.shape)\n",
    "print(y_test.shape)"
   ]
  },
  {
   "cell_type": "code",
   "execution_count": 189,
   "id": "888ccc4d",
   "metadata": {},
   "outputs": [],
   "source": [
    "y_pred = rf.predict(X_test)"
   ]
  },
  {
   "cell_type": "code",
   "execution_count": 190,
   "id": "4bede239",
   "metadata": {},
   "outputs": [
    {
     "data": {
      "text/html": [
       "<div>\n",
       "<style scoped>\n",
       "    .dataframe tbody tr th:only-of-type {\n",
       "        vertical-align: middle;\n",
       "    }\n",
       "\n",
       "    .dataframe tbody tr th {\n",
       "        vertical-align: top;\n",
       "    }\n",
       "\n",
       "    .dataframe thead th {\n",
       "        text-align: right;\n",
       "    }\n",
       "</style>\n",
       "<table border=\"1\" class=\"dataframe\">\n",
       "  <thead>\n",
       "    <tr style=\"text-align: right;\">\n",
       "      <th></th>\n",
       "      <th>Age</th>\n",
       "      <th>SiteSpending</th>\n",
       "      <th>SiteTime</th>\n",
       "      <th>RecommendImpression</th>\n",
       "      <th>Education</th>\n",
       "      <th>WorkType</th>\n",
       "      <th>Sex</th>\n",
       "      <th>Region</th>\n",
       "    </tr>\n",
       "  </thead>\n",
       "  <tbody>\n",
       "    <tr>\n",
       "      <th>521</th>\n",
       "      <td>0.269841</td>\n",
       "      <td>0.415808</td>\n",
       "      <td>0.264767</td>\n",
       "      <td>0.294118</td>\n",
       "      <td>0.333333</td>\n",
       "      <td>0.333333</td>\n",
       "      <td>1.0</td>\n",
       "      <td>0.181818</td>\n",
       "    </tr>\n",
       "    <tr>\n",
       "      <th>737</th>\n",
       "      <td>0.428571</td>\n",
       "      <td>0.030438</td>\n",
       "      <td>0.999020</td>\n",
       "      <td>0.411765</td>\n",
       "      <td>0.500000</td>\n",
       "      <td>0.333333</td>\n",
       "      <td>0.0</td>\n",
       "      <td>0.000000</td>\n",
       "    </tr>\n",
       "    <tr>\n",
       "      <th>740</th>\n",
       "      <td>0.301587</td>\n",
       "      <td>0.000977</td>\n",
       "      <td>0.053792</td>\n",
       "      <td>0.000000</td>\n",
       "      <td>0.166667</td>\n",
       "      <td>1.000000</td>\n",
       "      <td>0.0</td>\n",
       "      <td>1.000000</td>\n",
       "    </tr>\n",
       "    <tr>\n",
       "      <th>660</th>\n",
       "      <td>0.142857</td>\n",
       "      <td>0.052872</td>\n",
       "      <td>0.240964</td>\n",
       "      <td>0.000000</td>\n",
       "      <td>1.000000</td>\n",
       "      <td>0.000000</td>\n",
       "      <td>1.0</td>\n",
       "      <td>0.727273</td>\n",
       "    </tr>\n",
       "    <tr>\n",
       "      <th>411</th>\n",
       "      <td>0.253968</td>\n",
       "      <td>0.020182</td>\n",
       "      <td>0.932346</td>\n",
       "      <td>0.235294</td>\n",
       "      <td>0.833333</td>\n",
       "      <td>0.000000</td>\n",
       "      <td>1.0</td>\n",
       "      <td>1.000000</td>\n",
       "    </tr>\n",
       "    <tr>\n",
       "      <th>...</th>\n",
       "      <td>...</td>\n",
       "      <td>...</td>\n",
       "      <td>...</td>\n",
       "      <td>...</td>\n",
       "      <td>...</td>\n",
       "      <td>...</td>\n",
       "      <td>...</td>\n",
       "      <td>...</td>\n",
       "    </tr>\n",
       "    <tr>\n",
       "      <th>468</th>\n",
       "      <td>0.650794</td>\n",
       "      <td>0.000563</td>\n",
       "      <td>0.023768</td>\n",
       "      <td>0.000000</td>\n",
       "      <td>0.166667</td>\n",
       "      <td>1.000000</td>\n",
       "      <td>1.0</td>\n",
       "      <td>1.000000</td>\n",
       "    </tr>\n",
       "    <tr>\n",
       "      <th>935</th>\n",
       "      <td>0.380952</td>\n",
       "      <td>0.024930</td>\n",
       "      <td>0.532846</td>\n",
       "      <td>0.588235</td>\n",
       "      <td>0.166667</td>\n",
       "      <td>0.333333</td>\n",
       "      <td>1.0</td>\n",
       "      <td>0.000000</td>\n",
       "    </tr>\n",
       "    <tr>\n",
       "      <th>428</th>\n",
       "      <td>0.285714</td>\n",
       "      <td>0.004867</td>\n",
       "      <td>0.551374</td>\n",
       "      <td>0.235294</td>\n",
       "      <td>0.333333</td>\n",
       "      <td>0.000000</td>\n",
       "      <td>0.0</td>\n",
       "      <td>0.545455</td>\n",
       "    </tr>\n",
       "    <tr>\n",
       "      <th>7</th>\n",
       "      <td>0.317460</td>\n",
       "      <td>0.000000</td>\n",
       "      <td>0.639281</td>\n",
       "      <td>0.235294</td>\n",
       "      <td>0.166667</td>\n",
       "      <td>0.000000</td>\n",
       "      <td>1.0</td>\n",
       "      <td>0.454545</td>\n",
       "    </tr>\n",
       "    <tr>\n",
       "      <th>155</th>\n",
       "      <td>0.142857</td>\n",
       "      <td>0.036075</td>\n",
       "      <td>0.191196</td>\n",
       "      <td>0.294118</td>\n",
       "      <td>0.166667</td>\n",
       "      <td>0.333333</td>\n",
       "      <td>0.0</td>\n",
       "      <td>0.909091</td>\n",
       "    </tr>\n",
       "  </tbody>\n",
       "</table>\n",
       "<p>300 rows × 8 columns</p>\n",
       "</div>"
      ],
      "text/plain": [
       "          Age  SiteSpending  SiteTime  RecommendImpression  Education  \\\n",
       "521  0.269841      0.415808  0.264767             0.294118   0.333333   \n",
       "737  0.428571      0.030438  0.999020             0.411765   0.500000   \n",
       "740  0.301587      0.000977  0.053792             0.000000   0.166667   \n",
       "660  0.142857      0.052872  0.240964             0.000000   1.000000   \n",
       "411  0.253968      0.020182  0.932346             0.235294   0.833333   \n",
       "..        ...           ...       ...                  ...        ...   \n",
       "468  0.650794      0.000563  0.023768             0.000000   0.166667   \n",
       "935  0.380952      0.024930  0.532846             0.588235   0.166667   \n",
       "428  0.285714      0.004867  0.551374             0.235294   0.333333   \n",
       "7    0.317460      0.000000  0.639281             0.235294   0.166667   \n",
       "155  0.142857      0.036075  0.191196             0.294118   0.166667   \n",
       "\n",
       "     WorkType  Sex    Region  \n",
       "521  0.333333  1.0  0.181818  \n",
       "737  0.333333  0.0  0.000000  \n",
       "740  1.000000  0.0  1.000000  \n",
       "660  0.000000  1.0  0.727273  \n",
       "411  0.000000  1.0  1.000000  \n",
       "..        ...  ...       ...  \n",
       "468  1.000000  1.0  1.000000  \n",
       "935  0.333333  1.0  0.000000  \n",
       "428  0.000000  0.0  0.545455  \n",
       "7    0.000000  1.0  0.454545  \n",
       "155  0.333333  0.0  0.909091  \n",
       "\n",
       "[300 rows x 8 columns]"
      ]
     },
     "execution_count": 190,
     "metadata": {},
     "output_type": "execute_result"
    }
   ],
   "source": [
    "X_test"
   ]
  },
  {
   "cell_type": "code",
   "execution_count": 191,
   "id": "23b8561a",
   "metadata": {},
   "outputs": [
    {
     "data": {
      "text/html": [
       "<div>\n",
       "<style scoped>\n",
       "    .dataframe tbody tr th:only-of-type {\n",
       "        vertical-align: middle;\n",
       "    }\n",
       "\n",
       "    .dataframe tbody tr th {\n",
       "        vertical-align: top;\n",
       "    }\n",
       "\n",
       "    .dataframe thead th {\n",
       "        text-align: right;\n",
       "    }\n",
       "</style>\n",
       "<table border=\"1\" class=\"dataframe\">\n",
       "  <thead>\n",
       "    <tr style=\"text-align: right;\">\n",
       "      <th></th>\n",
       "      <th>Predicted Salary</th>\n",
       "    </tr>\n",
       "  </thead>\n",
       "  <tbody>\n",
       "    <tr>\n",
       "      <th>0</th>\n",
       "      <td>0.362850</td>\n",
       "    </tr>\n",
       "    <tr>\n",
       "      <th>1</th>\n",
       "      <td>0.328957</td>\n",
       "    </tr>\n",
       "    <tr>\n",
       "      <th>2</th>\n",
       "      <td>0.265227</td>\n",
       "    </tr>\n",
       "    <tr>\n",
       "      <th>3</th>\n",
       "      <td>0.056778</td>\n",
       "    </tr>\n",
       "    <tr>\n",
       "      <th>4</th>\n",
       "      <td>0.254561</td>\n",
       "    </tr>\n",
       "    <tr>\n",
       "      <th>...</th>\n",
       "      <td>...</td>\n",
       "    </tr>\n",
       "    <tr>\n",
       "      <th>295</th>\n",
       "      <td>0.073374</td>\n",
       "    </tr>\n",
       "    <tr>\n",
       "      <th>296</th>\n",
       "      <td>0.508769</td>\n",
       "    </tr>\n",
       "    <tr>\n",
       "      <th>297</th>\n",
       "      <td>0.264112</td>\n",
       "    </tr>\n",
       "    <tr>\n",
       "      <th>298</th>\n",
       "      <td>0.308823</td>\n",
       "    </tr>\n",
       "    <tr>\n",
       "      <th>299</th>\n",
       "      <td>0.056595</td>\n",
       "    </tr>\n",
       "  </tbody>\n",
       "</table>\n",
       "<p>300 rows × 1 columns</p>\n",
       "</div>"
      ],
      "text/plain": [
       "     Predicted Salary\n",
       "0            0.362850\n",
       "1            0.328957\n",
       "2            0.265227\n",
       "3            0.056778\n",
       "4            0.254561\n",
       "..                ...\n",
       "295          0.073374\n",
       "296          0.508769\n",
       "297          0.264112\n",
       "298          0.308823\n",
       "299          0.056595\n",
       "\n",
       "[300 rows x 1 columns]"
      ]
     },
     "execution_count": 191,
     "metadata": {},
     "output_type": "execute_result"
    }
   ],
   "source": [
    "y_pred =  pd.DataFrame(y_pred)\n",
    "y_pred = y_pred.rename(columns={0: 'Predicted Salary'})\n",
    "y_pred"
   ]
  },
  {
   "cell_type": "code",
   "execution_count": 192,
   "id": "07bfdc7f",
   "metadata": {},
   "outputs": [
    {
     "data": {
      "text/plain": [
       "0.8984557546500777"
      ]
     },
     "execution_count": 192,
     "metadata": {},
     "output_type": "execute_result"
    }
   ],
   "source": [
    "test_score = rf.score(X_test, y_test)\n",
    "test_score"
   ]
  },
  {
   "cell_type": "markdown",
   "id": "c10076b7",
   "metadata": {},
   "source": [
    "### Evaluation metrics"
   ]
  },
  {
   "cell_type": "code",
   "execution_count": 193,
   "id": "1f40d185",
   "metadata": {},
   "outputs": [
    {
     "name": "stdout",
     "output_type": "stream",
     "text": [
      "0.0380572052754927\n",
      "0.002809304596274469\n",
      "0.05300287347186442\n"
     ]
    }
   ],
   "source": [
    "print(metrics.mean_absolute_error(y_test, y_pred))\n",
    "print(metrics.mean_squared_error(y_test, y_pred))\n",
    "print(np.sqrt(metrics.mean_squared_error(y_test, y_pred)))"
   ]
  },
  {
   "cell_type": "markdown",
   "id": "17cf8210",
   "metadata": {},
   "source": [
    "## K-Neighbors Regressor"
   ]
  },
  {
   "cell_type": "code",
   "execution_count": 194,
   "id": "822519e3",
   "metadata": {},
   "outputs": [
    {
     "name": "stdout",
     "output_type": "stream",
     "text": [
      "n_Neighbour = 1 MSE = 0.026992141361485037\n",
      "n_Neighbour = 2 MSE = 0.018425961887252124\n",
      "n_Neighbour = 3 MSE = 0.018018715476230605\n",
      "n_Neighbour = 4 MSE = 0.016716824402697096\n",
      "n_Neighbour = 5 MSE = 0.017068953799817845\n",
      "n_Neighbour = 6 MSE = 0.01693412207814973\n",
      "n_Neighbour = 7 MSE = 0.017383478792249628\n",
      "n_Neighbour = 8 MSE = 0.01778446901613431\n",
      "n_Neighbour = 9 MSE = 0.01852202118496106\n",
      "n_Neighbour = 10 MSE = 0.01847882925005364\n"
     ]
    }
   ],
   "source": [
    "from sklearn.neighbors import KNeighborsRegressor\n",
    "\n",
    "# Lets define models with different neighbours\n",
    "\n",
    "for i in range(1,11):\n",
    "    neigh = KNeighborsRegressor(n_neighbors=i)\n",
    "    neigh.fit(X_train, y_train)\n",
    "\n",
    "    y_pred = neigh.predict(X_test)\n",
    "    print(\"n_Neighbour = \" + str(i) + \" MSE = \" + str(metrics.mean_squared_error(y_test, y_pred)))"
   ]
  }
 ],
 "metadata": {
  "kernelspec": {
   "display_name": "Python 3 (ipykernel)",
   "language": "python",
   "name": "python3"
  },
  "language_info": {
   "codemirror_mode": {
    "name": "ipython",
    "version": 3
   },
   "file_extension": ".py",
   "mimetype": "text/x-python",
   "name": "python",
   "nbconvert_exporter": "python",
   "pygments_lexer": "ipython3",
   "version": "3.9.12"
  }
 },
 "nbformat": 4,
 "nbformat_minor": 5
}
