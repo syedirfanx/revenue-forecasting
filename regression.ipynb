{
 "cells": [
  {
   "cell_type": "markdown",
   "id": "8e8452da",
   "metadata": {},
   "source": [
    "## Import Libraries"
   ]
  },
  {
   "cell_type": "code",
   "execution_count": 1,
   "id": "fa58e970",
   "metadata": {},
   "outputs": [],
   "source": [
    "import pandas as pd\n",
    "import numpy as np\n",
    "import matplotlib.pyplot as plt\n",
    "import seaborn as sns\n",
    "from scipy import stats"
   ]
  },
  {
   "cell_type": "markdown",
   "id": "5b7a3056",
   "metadata": {},
   "source": [
    "## Load Dataset"
   ]
  },
  {
   "cell_type": "code",
   "execution_count": 2,
   "id": "c56d2970",
   "metadata": {},
   "outputs": [],
   "source": [
    "data = pd.read_csv('data/revenue-data.csv')"
   ]
  },
  {
   "cell_type": "code",
   "execution_count": 3,
   "id": "9a252cd0",
   "metadata": {
    "scrolled": true
   },
   "outputs": [
    {
     "data": {
      "text/html": [
       "<div>\n",
       "<style scoped>\n",
       "    .dataframe tbody tr th:only-of-type {\n",
       "        vertical-align: middle;\n",
       "    }\n",
       "\n",
       "    .dataframe tbody tr th {\n",
       "        vertical-align: top;\n",
       "    }\n",
       "\n",
       "    .dataframe thead th {\n",
       "        text-align: right;\n",
       "    }\n",
       "</style>\n",
       "<table border=\"1\" class=\"dataframe\">\n",
       "  <thead>\n",
       "    <tr style=\"text-align: right;\">\n",
       "      <th></th>\n",
       "      <th>Age</th>\n",
       "      <th>SiteSpending</th>\n",
       "      <th>SiteTime</th>\n",
       "      <th>RecommendImpression</th>\n",
       "      <th>Education</th>\n",
       "      <th>WorkType</th>\n",
       "      <th>Sex</th>\n",
       "      <th>Region</th>\n",
       "      <th>Salary</th>\n",
       "    </tr>\n",
       "  </thead>\n",
       "  <tbody>\n",
       "    <tr>\n",
       "      <th>0</th>\n",
       "      <td>32</td>\n",
       "      <td>314.06</td>\n",
       "      <td>30.14</td>\n",
       "      <td>0</td>\n",
       "      <td>Degree</td>\n",
       "      <td>Private sector</td>\n",
       "      <td>Male</td>\n",
       "      <td>London</td>\n",
       "      <td>60173.49</td>\n",
       "    </tr>\n",
       "    <tr>\n",
       "      <th>1</th>\n",
       "      <td>20</td>\n",
       "      <td>3758.36</td>\n",
       "      <td>149.36</td>\n",
       "      <td>4</td>\n",
       "      <td>GCSE</td>\n",
       "      <td>Private sector</td>\n",
       "      <td>Female</td>\n",
       "      <td>South East</td>\n",
       "      <td>42965.45</td>\n",
       "    </tr>\n",
       "    <tr>\n",
       "      <th>2</th>\n",
       "      <td>36</td>\n",
       "      <td>601.72</td>\n",
       "      <td>21.87</td>\n",
       "      <td>0</td>\n",
       "      <td>Masters</td>\n",
       "      <td>Private sector</td>\n",
       "      <td>Male</td>\n",
       "      <td>East of England</td>\n",
       "      <td>54924.41</td>\n",
       "    </tr>\n",
       "    <tr>\n",
       "      <th>3</th>\n",
       "      <td>21</td>\n",
       "      <td>44.89</td>\n",
       "      <td>182.80</td>\n",
       "      <td>9</td>\n",
       "      <td>Masters</td>\n",
       "      <td>Private sector</td>\n",
       "      <td>Female</td>\n",
       "      <td>Northern Ireland</td>\n",
       "      <td>26734.99</td>\n",
       "    </tr>\n",
       "    <tr>\n",
       "      <th>4</th>\n",
       "      <td>24</td>\n",
       "      <td>614.80</td>\n",
       "      <td>194.34</td>\n",
       "      <td>0</td>\n",
       "      <td>GCSE</td>\n",
       "      <td>Private sector</td>\n",
       "      <td>Male</td>\n",
       "      <td>Scotland</td>\n",
       "      <td>15325.23</td>\n",
       "    </tr>\n",
       "  </tbody>\n",
       "</table>\n",
       "</div>"
      ],
      "text/plain": [
       "   Age  SiteSpending  SiteTime  RecommendImpression Education        WorkType  \\\n",
       "0   32        314.06     30.14                    0    Degree  Private sector   \n",
       "1   20       3758.36    149.36                    4      GCSE  Private sector   \n",
       "2   36        601.72     21.87                    0   Masters  Private sector   \n",
       "3   21         44.89    182.80                    9   Masters  Private sector   \n",
       "4   24        614.80    194.34                    0      GCSE  Private sector   \n",
       "\n",
       "      Sex            Region    Salary  \n",
       "0    Male            London  60173.49  \n",
       "1  Female        South East  42965.45  \n",
       "2    Male   East of England  54924.41  \n",
       "3  Female  Northern Ireland  26734.99  \n",
       "4    Male          Scotland  15325.23  "
      ]
     },
     "execution_count": 3,
     "metadata": {},
     "output_type": "execute_result"
    }
   ],
   "source": [
    "data.head()"
   ]
  },
  {
   "cell_type": "markdown",
   "id": "d6ad5f11",
   "metadata": {},
   "source": [
    "## Data Processing"
   ]
  },
  {
   "cell_type": "markdown",
   "id": "24b5bb3d",
   "metadata": {},
   "source": [
    "### Label Encoding"
   ]
  },
  {
   "cell_type": "code",
   "execution_count": 4,
   "id": "9cbfbdeb",
   "metadata": {
    "scrolled": true
   },
   "outputs": [
    {
     "data": {
      "text/html": [
       "<div>\n",
       "<style scoped>\n",
       "    .dataframe tbody tr th:only-of-type {\n",
       "        vertical-align: middle;\n",
       "    }\n",
       "\n",
       "    .dataframe tbody tr th {\n",
       "        vertical-align: top;\n",
       "    }\n",
       "\n",
       "    .dataframe thead th {\n",
       "        text-align: right;\n",
       "    }\n",
       "</style>\n",
       "<table border=\"1\" class=\"dataframe\">\n",
       "  <thead>\n",
       "    <tr style=\"text-align: right;\">\n",
       "      <th></th>\n",
       "      <th>Age</th>\n",
       "      <th>SiteSpending</th>\n",
       "      <th>SiteTime</th>\n",
       "      <th>RecommendImpression</th>\n",
       "      <th>Education</th>\n",
       "      <th>WorkType</th>\n",
       "      <th>Sex</th>\n",
       "      <th>Region</th>\n",
       "      <th>Salary</th>\n",
       "    </tr>\n",
       "  </thead>\n",
       "  <tbody>\n",
       "    <tr>\n",
       "      <th>0</th>\n",
       "      <td>32</td>\n",
       "      <td>314.06</td>\n",
       "      <td>30.14</td>\n",
       "      <td>0</td>\n",
       "      <td>1</td>\n",
       "      <td>0</td>\n",
       "      <td>1</td>\n",
       "      <td>2</td>\n",
       "      <td>60173.49</td>\n",
       "    </tr>\n",
       "    <tr>\n",
       "      <th>1</th>\n",
       "      <td>20</td>\n",
       "      <td>3758.36</td>\n",
       "      <td>149.36</td>\n",
       "      <td>4</td>\n",
       "      <td>2</td>\n",
       "      <td>0</td>\n",
       "      <td>0</td>\n",
       "      <td>7</td>\n",
       "      <td>42965.45</td>\n",
       "    </tr>\n",
       "    <tr>\n",
       "      <th>2</th>\n",
       "      <td>36</td>\n",
       "      <td>601.72</td>\n",
       "      <td>21.87</td>\n",
       "      <td>0</td>\n",
       "      <td>3</td>\n",
       "      <td>0</td>\n",
       "      <td>1</td>\n",
       "      <td>1</td>\n",
       "      <td>54924.41</td>\n",
       "    </tr>\n",
       "    <tr>\n",
       "      <th>3</th>\n",
       "      <td>21</td>\n",
       "      <td>44.89</td>\n",
       "      <td>182.80</td>\n",
       "      <td>9</td>\n",
       "      <td>3</td>\n",
       "      <td>0</td>\n",
       "      <td>0</td>\n",
       "      <td>5</td>\n",
       "      <td>26734.99</td>\n",
       "    </tr>\n",
       "    <tr>\n",
       "      <th>4</th>\n",
       "      <td>24</td>\n",
       "      <td>614.80</td>\n",
       "      <td>194.34</td>\n",
       "      <td>0</td>\n",
       "      <td>2</td>\n",
       "      <td>0</td>\n",
       "      <td>1</td>\n",
       "      <td>6</td>\n",
       "      <td>15325.23</td>\n",
       "    </tr>\n",
       "  </tbody>\n",
       "</table>\n",
       "</div>"
      ],
      "text/plain": [
       "   Age  SiteSpending  SiteTime  RecommendImpression  Education  WorkType  Sex  \\\n",
       "0   32        314.06     30.14                    0          1         0    1   \n",
       "1   20       3758.36    149.36                    4          2         0    0   \n",
       "2   36        601.72     21.87                    0          3         0    1   \n",
       "3   21         44.89    182.80                    9          3         0    0   \n",
       "4   24        614.80    194.34                    0          2         0    1   \n",
       "\n",
       "   Region    Salary  \n",
       "0       2  60173.49  \n",
       "1       7  42965.45  \n",
       "2       1  54924.41  \n",
       "3       5  26734.99  \n",
       "4       6  15325.23  "
      ]
     },
     "execution_count": 4,
     "metadata": {},
     "output_type": "execute_result"
    }
   ],
   "source": [
    "from sklearn import preprocessing\n",
    "le = preprocessing.LabelEncoder()\n",
    "\n",
    "data[\"Education\"] = le.fit_transform(data['Education'])\n",
    "data[\"WorkType\"] = le.fit_transform(data[\"WorkType\"])\n",
    "data['Sex'] = le.fit_transform(data['Sex'])\n",
    "data['Region'] =  le.fit_transform(data['Region'])\n",
    "data.head()"
   ]
  },
  {
   "cell_type": "markdown",
   "id": "239946ee",
   "metadata": {},
   "source": [
    "### Feature Scaling"
   ]
  },
  {
   "cell_type": "code",
   "execution_count": 5,
   "id": "5a6dffc1",
   "metadata": {},
   "outputs": [],
   "source": [
    "from sklearn import preprocessing\n",
    "x = data.values #returns a numpy array\n",
    "min_max_scaler = preprocessing.MinMaxScaler()\n",
    "data_scaled = min_max_scaler.fit_transform(x)\n",
    "df = pd.DataFrame(data_scaled)"
   ]
  },
  {
   "cell_type": "code",
   "execution_count": 6,
   "id": "2e0a9692",
   "metadata": {},
   "outputs": [],
   "source": [
    "df.columns = data.columns"
   ]
  },
  {
   "cell_type": "code",
   "execution_count": 7,
   "id": "7c2167a2",
   "metadata": {},
   "outputs": [
    {
     "data": {
      "text/html": [
       "<div>\n",
       "<style scoped>\n",
       "    .dataframe tbody tr th:only-of-type {\n",
       "        vertical-align: middle;\n",
       "    }\n",
       "\n",
       "    .dataframe tbody tr th {\n",
       "        vertical-align: top;\n",
       "    }\n",
       "\n",
       "    .dataframe thead th {\n",
       "        text-align: right;\n",
       "    }\n",
       "</style>\n",
       "<table border=\"1\" class=\"dataframe\">\n",
       "  <thead>\n",
       "    <tr style=\"text-align: right;\">\n",
       "      <th></th>\n",
       "      <th>Age</th>\n",
       "      <th>SiteSpending</th>\n",
       "      <th>SiteTime</th>\n",
       "      <th>RecommendImpression</th>\n",
       "      <th>Education</th>\n",
       "      <th>WorkType</th>\n",
       "      <th>Sex</th>\n",
       "      <th>Region</th>\n",
       "      <th>Salary</th>\n",
       "    </tr>\n",
       "  </thead>\n",
       "  <tbody>\n",
       "    <tr>\n",
       "      <th>0</th>\n",
       "      <td>0.206349</td>\n",
       "      <td>0.062878</td>\n",
       "      <td>0.084627</td>\n",
       "      <td>0.000000</td>\n",
       "      <td>0.166667</td>\n",
       "      <td>0.0</td>\n",
       "      <td>1.0</td>\n",
       "      <td>0.181818</td>\n",
       "      <td>0.359470</td>\n",
       "    </tr>\n",
       "    <tr>\n",
       "      <th>1</th>\n",
       "      <td>0.015873</td>\n",
       "      <td>0.854345</td>\n",
       "      <td>0.487710</td>\n",
       "      <td>0.235294</td>\n",
       "      <td>0.333333</td>\n",
       "      <td>0.0</td>\n",
       "      <td>0.0</td>\n",
       "      <td>0.636364</td>\n",
       "      <td>0.229875</td>\n",
       "    </tr>\n",
       "    <tr>\n",
       "      <th>2</th>\n",
       "      <td>0.269841</td>\n",
       "      <td>0.128979</td>\n",
       "      <td>0.056666</td>\n",
       "      <td>0.000000</td>\n",
       "      <td>0.500000</td>\n",
       "      <td>0.0</td>\n",
       "      <td>1.0</td>\n",
       "      <td>0.090909</td>\n",
       "      <td>0.319939</td>\n",
       "    </tr>\n",
       "    <tr>\n",
       "      <th>3</th>\n",
       "      <td>0.031746</td>\n",
       "      <td>0.001025</td>\n",
       "      <td>0.600771</td>\n",
       "      <td>0.529412</td>\n",
       "      <td>0.500000</td>\n",
       "      <td>0.0</td>\n",
       "      <td>0.0</td>\n",
       "      <td>0.454545</td>\n",
       "      <td>0.107643</td>\n",
       "    </tr>\n",
       "    <tr>\n",
       "      <th>4</th>\n",
       "      <td>0.079365</td>\n",
       "      <td>0.131985</td>\n",
       "      <td>0.639788</td>\n",
       "      <td>0.000000</td>\n",
       "      <td>0.333333</td>\n",
       "      <td>0.0</td>\n",
       "      <td>1.0</td>\n",
       "      <td>0.545455</td>\n",
       "      <td>0.021716</td>\n",
       "    </tr>\n",
       "  </tbody>\n",
       "</table>\n",
       "</div>"
      ],
      "text/plain": [
       "        Age  SiteSpending  SiteTime  RecommendImpression  Education  WorkType  \\\n",
       "0  0.206349      0.062878  0.084627             0.000000   0.166667       0.0   \n",
       "1  0.015873      0.854345  0.487710             0.235294   0.333333       0.0   \n",
       "2  0.269841      0.128979  0.056666             0.000000   0.500000       0.0   \n",
       "3  0.031746      0.001025  0.600771             0.529412   0.500000       0.0   \n",
       "4  0.079365      0.131985  0.639788             0.000000   0.333333       0.0   \n",
       "\n",
       "   Sex    Region    Salary  \n",
       "0  1.0  0.181818  0.359470  \n",
       "1  0.0  0.636364  0.229875  \n",
       "2  1.0  0.090909  0.319939  \n",
       "3  0.0  0.454545  0.107643  \n",
       "4  1.0  0.545455  0.021716  "
      ]
     },
     "execution_count": 7,
     "metadata": {},
     "output_type": "execute_result"
    }
   ],
   "source": [
    "df.head()"
   ]
  },
  {
   "cell_type": "markdown",
   "id": "f6fe9655",
   "metadata": {},
   "source": [
    "## Support Vector Regressor"
   ]
  },
  {
   "cell_type": "code",
   "execution_count": 8,
   "id": "aedff5b5",
   "metadata": {},
   "outputs": [],
   "source": [
    "X = df.drop(columns= [\"Salary\"])\n",
    "y = df['Salary']"
   ]
  },
  {
   "cell_type": "code",
   "execution_count": 9,
   "id": "81ac2640",
   "metadata": {},
   "outputs": [],
   "source": [
    "from sklearn.model_selection import train_test_split\n",
    "X_train, X_test, y_train, y_test = train_test_split(X, y, test_size=0.3, random_state=42)"
   ]
  },
  {
   "cell_type": "code",
   "execution_count": 10,
   "id": "3d9374f6",
   "metadata": {
    "scrolled": true
   },
   "outputs": [
    {
     "data": {
      "text/plain": [
       "SVR()"
      ]
     },
     "execution_count": 10,
     "metadata": {},
     "output_type": "execute_result"
    }
   ],
   "source": [
    "from sklearn.svm import SVR\n",
    "regressor = SVR(kernel = 'rbf')\n",
    "regressor.fit(X_train, y_train)"
   ]
  },
  {
   "cell_type": "code",
   "execution_count": 11,
   "id": "4f55bf9e",
   "metadata": {},
   "outputs": [],
   "source": [
    "y_pred = regressor.predict(X_test)"
   ]
  },
  {
   "cell_type": "code",
   "execution_count": 12,
   "id": "d23cd267",
   "metadata": {},
   "outputs": [],
   "source": [
    "test_score = regressor.score(X_test, y_test)"
   ]
  },
  {
   "cell_type": "code",
   "execution_count": 13,
   "id": "300874b4",
   "metadata": {},
   "outputs": [
    {
     "data": {
      "text/plain": [
       "0.6438353477663408"
      ]
     },
     "execution_count": 13,
     "metadata": {},
     "output_type": "execute_result"
    }
   ],
   "source": [
    "test_score"
   ]
  },
  {
   "cell_type": "markdown",
   "id": "8a7bad24",
   "metadata": {},
   "source": [
    "### Evaluation Metrics"
   ]
  },
  {
   "cell_type": "code",
   "execution_count": 24,
   "id": "55e54b3e",
   "metadata": {},
   "outputs": [],
   "source": [
    "def adjusted_r2_score(actual, predictions, num_pred, num_samples):\n",
    "    n = num_samples\n",
    "    k = num_pred\n",
    "    r2 = r2_score(actual, predictions)\n",
    "    adjusted_r2 = 1 - ((1-r2) * ((n-1)/(n-k-1)))\n",
    "    return adjusted_r2"
   ]
  },
  {
   "cell_type": "code",
   "execution_count": 25,
   "id": "8e2b337d",
   "metadata": {},
   "outputs": [
    {
     "name": "stdout",
     "output_type": "stream",
     "text": [
      "0.6438353477663408\n",
      "0.08242692270783723\n",
      "0.009853586395787635\n",
      "0.09926523256300583\n"
     ]
    },
    {
     "data": {
      "text/plain": [
       "0.6340438796636972"
      ]
     },
     "execution_count": 25,
     "metadata": {},
     "output_type": "execute_result"
    }
   ],
   "source": [
    "from sklearn.metrics import r2_score\n",
    "from sklearn.metrics import mean_absolute_error\n",
    "from sklearn.metrics import mean_squared_error\n",
    "\n",
    "print(r2_score(y_test, y_pred))\n",
    "print(mean_absolute_error(y_test, y_pred))\n",
    "print(mean_squared_error(y_test, y_pred))\n",
    "print(np.sqrt(mean_squared_error(y_test, y_pred)))\n",
    "\n",
    "num_samples = X_test.shape[0]\n",
    "num_predictors = X_test.shape[1]\n",
    "adjusted_r2_score(y_test, y_pred, num_predictors, num_samples)"
   ]
  },
  {
   "cell_type": "markdown",
   "id": "d542a69d",
   "metadata": {},
   "source": [
    "## Decision Tree Regressor"
   ]
  },
  {
   "cell_type": "code",
   "execution_count": 26,
   "id": "1145fc7c",
   "metadata": {},
   "outputs": [
    {
     "data": {
      "text/plain": [
       "DecisionTreeRegressor()"
      ]
     },
     "execution_count": 26,
     "metadata": {},
     "output_type": "execute_result"
    }
   ],
   "source": [
    "from sklearn import tree\n",
    "\n",
    "reg = tree.DecisionTreeRegressor()\n",
    "reg.fit(X_train, y_train)"
   ]
  },
  {
   "cell_type": "code",
   "execution_count": 27,
   "id": "08cdcb30",
   "metadata": {},
   "outputs": [],
   "source": [
    "y_pred = reg.predict(X_test)"
   ]
  },
  {
   "cell_type": "markdown",
   "id": "8f671d3b",
   "metadata": {},
   "source": [
    "### Evaluation Metrics"
   ]
  },
  {
   "cell_type": "code",
   "execution_count": 31,
   "id": "edf3c388",
   "metadata": {},
   "outputs": [
    {
     "name": "stdout",
     "output_type": "stream",
     "text": [
      "0.7276209778325664\n",
      "0.06022726648565096\n",
      "0.00753558841534393\n",
      "0.08680776702198904\n"
     ]
    },
    {
     "data": {
      "text/plain": [
       "0.7201328947489256"
      ]
     },
     "execution_count": 31,
     "metadata": {},
     "output_type": "execute_result"
    }
   ],
   "source": [
    "from sklearn.metrics import r2_score\n",
    "\n",
    "print(r2_score(y_test, y_pred))\n",
    "print(mean_absolute_error(y_test, y_pred))\n",
    "print(mean_squared_error(y_test, y_pred))\n",
    "print(np.sqrt(mean_squared_error(y_test, y_pred)))\n",
    "\n",
    "num_samples = X_test.shape[0]\n",
    "num_predictors = X_test.shape[1]\n",
    "adjusted_r2_score(y_test, y_pred, num_predictors, num_samples)"
   ]
  },
  {
   "cell_type": "markdown",
   "id": "372ae2e7",
   "metadata": {},
   "source": [
    "## Random Forrest Regressor"
   ]
  },
  {
   "cell_type": "code",
   "execution_count": 32,
   "id": "5db621ac",
   "metadata": {},
   "outputs": [
    {
     "data": {
      "text/plain": [
       "RandomForestRegressor()"
      ]
     },
     "execution_count": 32,
     "metadata": {},
     "output_type": "execute_result"
    }
   ],
   "source": [
    "from sklearn.ensemble import RandomForestRegressor\n",
    "\n",
    "rf =RandomForestRegressor()\n",
    "\n",
    "rf.fit(X_train, y_train)"
   ]
  },
  {
   "cell_type": "code",
   "execution_count": 33,
   "id": "e3f63b6b",
   "metadata": {},
   "outputs": [
    {
     "name": "stdout",
     "output_type": "stream",
     "text": [
      "(700, 8)\n",
      "(300, 8)\n",
      "(700,)\n",
      "(300,)\n"
     ]
    }
   ],
   "source": [
    "print(X_train.shape)\n",
    "print(X_test.shape)\n",
    "print(y_train.shape)\n",
    "print(y_test.shape)"
   ]
  },
  {
   "cell_type": "code",
   "execution_count": 34,
   "id": "888ccc4d",
   "metadata": {},
   "outputs": [],
   "source": [
    "y_pred = rf.predict(X_test)"
   ]
  },
  {
   "cell_type": "markdown",
   "id": "c10076b7",
   "metadata": {},
   "source": [
    "### Evaluation metrics"
   ]
  },
  {
   "cell_type": "code",
   "execution_count": 36,
   "id": "1f40d185",
   "metadata": {},
   "outputs": [
    {
     "name": "stdout",
     "output_type": "stream",
     "text": [
      "0.8977406847696814\n",
      "0.03840539031818529\n",
      "0.0028290875893405175\n",
      "0.05318916796999665\n"
     ]
    },
    {
     "data": {
      "text/plain": [
       "0.8949294321173015"
      ]
     },
     "execution_count": 36,
     "metadata": {},
     "output_type": "execute_result"
    }
   ],
   "source": [
    "from sklearn.metrics import r2_score\n",
    "\n",
    "print(r2_score(y_test, y_pred))\n",
    "\n",
    "print(mean_absolute_error(y_test, y_pred))\n",
    "print(mean_squared_error(y_test, y_pred))\n",
    "print(np.sqrt(mean_squared_error(y_test, y_pred)))\n",
    "\n",
    "num_samples = X_test.shape[0]\n",
    "num_predictors = X_test.shape[1]\n",
    "adjusted_r2_score(y_test, y_pred, num_predictors, num_samples)"
   ]
  }
 ],
 "metadata": {
  "kernelspec": {
   "display_name": "Python 3 (ipykernel)",
   "language": "python",
   "name": "python3"
  },
  "language_info": {
   "codemirror_mode": {
    "name": "ipython",
    "version": 3
   },
   "file_extension": ".py",
   "mimetype": "text/x-python",
   "name": "python",
   "nbconvert_exporter": "python",
   "pygments_lexer": "ipython3",
   "version": "3.9.12"
  }
 },
 "nbformat": 4,
 "nbformat_minor": 5
}
